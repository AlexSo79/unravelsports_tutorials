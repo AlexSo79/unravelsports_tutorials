{
 "cells": [
  {
   "cell_type": "markdown",
   "metadata": {},
   "source": [
    "## 🌀 unravel BigDataBowl data!\n",
    "\n",
    "First run `pip install unravelsports` if you haven't already!\n",
    "\n",
    "-------"
   ]
  },
  {
   "cell_type": "code",
   "execution_count": null,
   "metadata": {},
   "outputs": [],
   "source": [
    "%pip install unravelsports --quiet"
   ]
  },
  {
   "cell_type": "markdown",
   "metadata": {},
   "source": [
    "This basic guide shows the differences between loading and converting the BigDataBowl data using the `AmericanFootballGraphConverter` compared to the `SoccerGraphConverter`. For the remaining functionalities please reference the [Quick-Start Guide](0_quick_start_guide.ipynb) or [Section 5](1_kloppy_gnn_train.ipynb#5-creating-a-custom-graph-dataset) and beyond of the Walkthrough.\n",
    "\n",
    "If anything is unclear, please read through [the Soccer example](1_kloppy_gnn_train.ipynb) in it's interity. \n",
    "\n",
    "-------\n",
    "\n",
    "### BigDataBowl data\n",
    "\n",
    "Before you can get started you have to download the BigDataBowl files from [Kaggle](https://www.kaggle.com/competitions/nfl-big-data-bowl-2025/data) after agreeing to the terms and conditions of the BigDataBowl. \n",
    "\n",
    "Please note development of this implementation started prior to the BigDataBowl 2025 data release and was done using BigDataBowl 2023 data. This implementation supports the 2025 dataset, but the 2025 tracking data files have 7x as many frames (1,100,000 compared to 7,100,000), because of the BEFORE_SNAP and AFTER_SNAP frame types. It is highly adviced to walk through this notebook with 2023 data first, because it will run much faster (roughly ~2 compared to ~15 minutes for one tracking data csv on an M1 MacBook). After you've tested it feel free to progress with the 2025 dataset.\n",
    "\n",
    "\n",
    "-------\n",
    "\n",
    "### American Football as Graphs\n",
    "\n",
    "Although a lot of the functionality is similar to the Soccer implementation, the American Football implemenation has some clear differences, because of the different file structure, the lack of a [Kloppy](https://github.com/PySport/kloppy)-like library for American Football data, and both sports having different requirements. And most importantly the American Football implementation uses Polars under the hood! "
   ]
  },
  {
   "cell_type": "markdown",
   "metadata": {},
   "source": [
    "### Contents:\n",
    "\n",
    "- [**1. BigDataBowlDataset**](#1-bigdatabowldataset)\n",
    "- [**2. AmericanFootballGraphConverter**](#2-americanfootballgraphconverter)\n",
    "- [**3. Spektral Graphs**](#3-spektral-graphs)\n",
    "\n",
    "ℹ️ [**Graphs FAQ**](graphs_faq.ipynb)\n",
    "\n",
    "-------"
   ]
  },
  {
   "cell_type": "markdown",
   "metadata": {},
   "source": [
    "\n",
    "### 1. BigDataBowlDataset\n",
    "\n",
    "- The `AmericanFootballGraphConverter` expects a Polars DataFrame. You can load this with the `BigDataBowlDataset` class\n",
    "- The `BigDataBowlDataset`-class takes 3 parameters, namely the paths to the tracking, players and plays files (str) respectively. \n",
    "- The `BigDataBowlDataset` standardizes every play attacking from left to right, and it adjusts orientation (`o`) and direction (`dir`) accordingly. It also joins the `plays.csv` and `players.csv` to the tracking data to use the in possession team, and player positions (QB identifier), weight and height respectively. It also converts weight to kilograms and height to centimeters.\n",
    "- We add `graph_id`s to the `BigDataBowlDataset` by calling `.add_graph_ids()`. We don't have to use dummy graph ids as we do for ⚽ because the data comes with `playId`s. It's recommended to assign graph identifiers at least by `gameId` and `playId` (the default behaviour). \n",
    "- We add dummy labels by calling `.add_dummy_labels()`. It's still up to the user to define the _actual_ labels they can use to train on. The `add_dummy_labels` adds a column `\"label\"` to the Polars DataFrame. To add your own labels simply remove the `.add_dummy_labels()` call and add your own label column. "
   ]
  },
  {
   "cell_type": "code",
   "execution_count": 1,
   "metadata": {},
   "outputs": [
    {
     "data": {
      "text/html": [
       "<div><style>\n",
       ".dataframe > thead > tr,\n",
       ".dataframe > tbody > tr {\n",
       "  text-align: right;\n",
       "  white-space: pre-wrap;\n",
       "}\n",
       "</style>\n",
       "<small>shape: (7_104_700, 24)</small><table border=\"1\" class=\"dataframe\"><thead><tr><th>gameId</th><th>playId</th><th>nflId</th><th>displayName</th><th>frameId</th><th>frameType</th><th>time</th><th>jerseyNumber</th><th>playDirection</th><th>x</th><th>y</th><th>s</th><th>a</th><th>dis</th><th>o</th><th>dir</th><th>event</th><th>team</th><th>officialPosition</th><th>height_cm</th><th>weight_kg</th><th>possessionTeam</th><th>graph_id</th><th>label</th></tr><tr><td>i64</td><td>i64</td><td>f64</td><td>str</td><td>i64</td><td>str</td><td>str</td><td>i64</td><td>str</td><td>f64</td><td>f64</td><td>f64</td><td>f64</td><td>f64</td><td>f64</td><td>f64</td><td>str</td><td>str</td><td>str</td><td>f64</td><td>f64</td><td>str</td><td>str</td><td>i64</td></tr></thead><tbody><tr><td>2022091200</td><td>64</td><td>35459.0</td><td>&quot;Kareem Jackson&quot;</td><td>1</td><td>&quot;BEFORE_SNAP&quot;</td><td>&quot;2022-09-13 00:16:03.5&quot;</td><td>22</td><td>&quot;right&quot;</td><td>-8.94</td><td>1.9</td><td>0.72</td><td>0.37</td><td>0.07</td><td>-1.986708</td><td>1.192758</td><td>&quot;huddle_break_offense&quot;</td><td>&quot;DEN&quot;</td><td>&quot;SS&quot;</td><td>177.8</td><td>83.91452</td><td>&quot;SEA&quot;</td><td>&quot;2022091200-64&quot;</td><td>0</td></tr><tr><td>2022091200</td><td>64</td><td>35459.0</td><td>&quot;Kareem Jackson&quot;</td><td>2</td><td>&quot;BEFORE_SNAP&quot;</td><td>&quot;2022-09-13 00:16:03.6&quot;</td><td>22</td><td>&quot;right&quot;</td><td>-8.87</td><td>1.92</td><td>0.71</td><td>0.36</td><td>0.07</td><td>-1.999973</td><td>1.242849</td><td>null</td><td>&quot;DEN&quot;</td><td>&quot;SS&quot;</td><td>177.8</td><td>83.91452</td><td>&quot;SEA&quot;</td><td>&quot;2022091200-64&quot;</td><td>0</td></tr><tr><td>2022091200</td><td>64</td><td>35459.0</td><td>&quot;Kareem Jackson&quot;</td><td>3</td><td>&quot;BEFORE_SNAP&quot;</td><td>&quot;2022-09-13 00:16:03.7&quot;</td><td>22</td><td>&quot;right&quot;</td><td>-8.8</td><td>1.94</td><td>0.69</td><td>0.23</td><td>0.07</td><td>-2.016728</td><td>1.219985</td><td>null</td><td>&quot;DEN&quot;</td><td>&quot;SS&quot;</td><td>177.8</td><td>83.91452</td><td>&quot;SEA&quot;</td><td>&quot;2022091200-64&quot;</td><td>1</td></tr><tr><td>2022091200</td><td>64</td><td>35459.0</td><td>&quot;Kareem Jackson&quot;</td><td>4</td><td>&quot;BEFORE_SNAP&quot;</td><td>&quot;2022-09-13 00:16:03.8&quot;</td><td>22</td><td>&quot;right&quot;</td><td>-8.74</td><td>1.97</td><td>0.67</td><td>0.22</td><td>0.07</td><td>-2.016728</td><td>1.186475</td><td>null</td><td>&quot;DEN&quot;</td><td>&quot;SS&quot;</td><td>177.8</td><td>83.91452</td><td>&quot;SEA&quot;</td><td>&quot;2022091200-64&quot;</td><td>0</td></tr><tr><td>2022091200</td><td>64</td><td>35459.0</td><td>&quot;Kareem Jackson&quot;</td><td>5</td><td>&quot;BEFORE_SNAP&quot;</td><td>&quot;2022-09-13 00:16:03.9&quot;</td><td>22</td><td>&quot;right&quot;</td><td>-8.68</td><td>2.0</td><td>0.65</td><td>0.34</td><td>0.07</td><td>-1.994213</td><td>1.09659</td><td>null</td><td>&quot;DEN&quot;</td><td>&quot;SS&quot;</td><td>177.8</td><td>83.91452</td><td>&quot;SEA&quot;</td><td>&quot;2022091200-64&quot;</td><td>1</td></tr><tr><td>&hellip;</td><td>&hellip;</td><td>&hellip;</td><td>&hellip;</td><td>&hellip;</td><td>&hellip;</td><td>&hellip;</td><td>&hellip;</td><td>&hellip;</td><td>&hellip;</td><td>&hellip;</td><td>&hellip;</td><td>&hellip;</td><td>&hellip;</td><td>&hellip;</td><td>&hellip;</td><td>&hellip;</td><td>&hellip;</td><td>&hellip;</td><td>&hellip;</td><td>&hellip;</td><td>&hellip;</td><td>&hellip;</td><td>&hellip;</td></tr><tr><td>2022090800</td><td>3696</td><td>-9999.9</td><td>&quot;football&quot;</td><td>171</td><td>&quot;AFTER_SNAP&quot;</td><td>&quot;2022-09-09 03:07:37.7&quot;</td><td>null</td><td>&quot;left&quot;</td><td>58.3</td><td>26.03</td><td>14.42</td><td>5.36</td><td>1.47</td><td>null</td><td>null</td><td>&quot;pass_outcome_incomplete&quot;</td><td>&quot;football&quot;</td><td>null</td><td>null</td><td>null</td><td>&quot;LA&quot;</td><td>&quot;2022090800-3696&quot;</td><td>0</td></tr><tr><td>2022090800</td><td>3696</td><td>-9999.9</td><td>&quot;football&quot;</td><td>172</td><td>&quot;AFTER_SNAP&quot;</td><td>&quot;2022-09-09 03:07:37.8&quot;</td><td>null</td><td>&quot;left&quot;</td><td>59.41</td><td>26.64</td><td>3.6</td><td>0.06</td><td>1.27</td><td>null</td><td>null</td><td>null</td><td>&quot;football&quot;</td><td>null</td><td>null</td><td>null</td><td>&quot;LA&quot;</td><td>&quot;2022090800-3696&quot;</td><td>1</td></tr><tr><td>2022090800</td><td>3696</td><td>-9999.9</td><td>&quot;football&quot;</td><td>173</td><td>&quot;AFTER_SNAP&quot;</td><td>&quot;2022-09-09 03:07:37.9&quot;</td><td>null</td><td>&quot;left&quot;</td><td>59.77</td><td>26.72</td><td>3.6</td><td>0.23</td><td>0.38</td><td>null</td><td>null</td><td>null</td><td>&quot;football&quot;</td><td>null</td><td>null</td><td>null</td><td>&quot;LA&quot;</td><td>&quot;2022090800-3696&quot;</td><td>1</td></tr><tr><td>2022090800</td><td>3696</td><td>-9999.9</td><td>&quot;football&quot;</td><td>174</td><td>&quot;AFTER_SNAP&quot;</td><td>&quot;2022-09-09 03:07:38&quot;</td><td>null</td><td>&quot;left&quot;</td><td>60.13</td><td>26.82</td><td>3.63</td><td>0.06</td><td>0.37</td><td>null</td><td>null</td><td>null</td><td>&quot;football&quot;</td><td>null</td><td>null</td><td>null</td><td>&quot;LA&quot;</td><td>&quot;2022090800-3696&quot;</td><td>1</td></tr><tr><td>2022090800</td><td>3696</td><td>-9999.9</td><td>&quot;football&quot;</td><td>175</td><td>&quot;AFTER_SNAP&quot;</td><td>&quot;2022-09-09 03:07:38.1&quot;</td><td>null</td><td>&quot;left&quot;</td><td>60.48</td><td>26.91</td><td>3.74</td><td>0.46</td><td>0.36</td><td>null</td><td>null</td><td>null</td><td>&quot;football&quot;</td><td>null</td><td>null</td><td>null</td><td>&quot;LA&quot;</td><td>&quot;2022090800-3696&quot;</td><td>1</td></tr></tbody></table></div>"
      ],
      "text/plain": [
       "shape: (7_104_700, 24)\n",
       "┌────────────┬────────┬─────────┬──────────────┬───┬───────────┬─────────────┬─────────────┬───────┐\n",
       "│ gameId     ┆ playId ┆ nflId   ┆ displayName  ┆ … ┆ weight_kg ┆ possessionT ┆ graph_id    ┆ label │\n",
       "│ ---        ┆ ---    ┆ ---     ┆ ---          ┆   ┆ ---       ┆ eam         ┆ ---         ┆ ---   │\n",
       "│ i64        ┆ i64    ┆ f64     ┆ str          ┆   ┆ f64       ┆ ---         ┆ str         ┆ i64   │\n",
       "│            ┆        ┆         ┆              ┆   ┆           ┆ str         ┆             ┆       │\n",
       "╞════════════╪════════╪═════════╪══════════════╪═══╪═══════════╪═════════════╪═════════════╪═══════╡\n",
       "│ 2022091200 ┆ 64     ┆ 35459.0 ┆ Kareem       ┆ … ┆ 83.91452  ┆ SEA         ┆ 2022091200- ┆ 0     │\n",
       "│            ┆        ┆         ┆ Jackson      ┆   ┆           ┆             ┆ 64          ┆       │\n",
       "│ 2022091200 ┆ 64     ┆ 35459.0 ┆ Kareem       ┆ … ┆ 83.91452  ┆ SEA         ┆ 2022091200- ┆ 0     │\n",
       "│            ┆        ┆         ┆ Jackson      ┆   ┆           ┆             ┆ 64          ┆       │\n",
       "│ 2022091200 ┆ 64     ┆ 35459.0 ┆ Kareem       ┆ … ┆ 83.91452  ┆ SEA         ┆ 2022091200- ┆ 1     │\n",
       "│            ┆        ┆         ┆ Jackson      ┆   ┆           ┆             ┆ 64          ┆       │\n",
       "│ 2022091200 ┆ 64     ┆ 35459.0 ┆ Kareem       ┆ … ┆ 83.91452  ┆ SEA         ┆ 2022091200- ┆ 0     │\n",
       "│            ┆        ┆         ┆ Jackson      ┆   ┆           ┆             ┆ 64          ┆       │\n",
       "│ 2022091200 ┆ 64     ┆ 35459.0 ┆ Kareem       ┆ … ┆ 83.91452  ┆ SEA         ┆ 2022091200- ┆ 1     │\n",
       "│            ┆        ┆         ┆ Jackson      ┆   ┆           ┆             ┆ 64          ┆       │\n",
       "│ …          ┆ …      ┆ …       ┆ …            ┆ … ┆ …         ┆ …           ┆ …           ┆ …     │\n",
       "│ 2022090800 ┆ 3696   ┆ -9999.9 ┆ football     ┆ … ┆ null      ┆ LA          ┆ 2022090800- ┆ 0     │\n",
       "│            ┆        ┆         ┆              ┆   ┆           ┆             ┆ 3696        ┆       │\n",
       "│ 2022090800 ┆ 3696   ┆ -9999.9 ┆ football     ┆ … ┆ null      ┆ LA          ┆ 2022090800- ┆ 1     │\n",
       "│            ┆        ┆         ┆              ┆   ┆           ┆             ┆ 3696        ┆       │\n",
       "│ 2022090800 ┆ 3696   ┆ -9999.9 ┆ football     ┆ … ┆ null      ┆ LA          ┆ 2022090800- ┆ 1     │\n",
       "│            ┆        ┆         ┆              ┆   ┆           ┆             ┆ 3696        ┆       │\n",
       "│ 2022090800 ┆ 3696   ┆ -9999.9 ┆ football     ┆ … ┆ null      ┆ LA          ┆ 2022090800- ┆ 1     │\n",
       "│            ┆        ┆         ┆              ┆   ┆           ┆             ┆ 3696        ┆       │\n",
       "│ 2022090800 ┆ 3696   ┆ -9999.9 ┆ football     ┆ … ┆ null      ┆ LA          ┆ 2022090800- ┆ 1     │\n",
       "│            ┆        ┆         ┆              ┆   ┆           ┆             ┆ 3696        ┆       │\n",
       "└────────────┴────────┴─────────┴──────────────┴───┴───────────┴─────────────┴─────────────┴───────┘"
      ]
     },
     "execution_count": 1,
     "metadata": {},
     "output_type": "execute_result"
    }
   ],
   "source": [
    "from unravel.american_football import BigDataBowlDataset, AmericanFootballGraphConverter\n",
    "\n",
    "bdb = BigDataBowlDataset(\n",
    "    tracking_file_path=\".data/nfl-big-data-bowl-2025/tracking_week_1.csv\",\n",
    "    players_file_path=\".data/nfl-big-data-bowl-2025/players.csv\",\n",
    "    plays_file_path=\".data/nfl-big-data-bowl-2025/plays.csv\",\n",
    ")\n",
    "bdb.load()\n",
    "bdb.add_graph_ids(by=[\"gameId\", \"playId\"], column_name=\"graph_id\")\n",
    "bdb.add_dummy_labels(by=[\"gameId\", \"playId\", \"frameId\"], column_name=\"label\")"
   ]
  },
  {
   "cell_type": "markdown",
   "metadata": {},
   "source": [
    "### 2. AmericanFootballGraphConverter\n",
    "\n",
    "ℹ️ For more information on:\n",
    "- What a Graph is, check out [Graph FAQ Section A](graphs_faq.ipynb)\n",
    "- What features each Graph has, check out [Graph FAQ Section C](graphs_faq.ipynb)\n",
    "\n",
    "#### Parameters\n",
    "- To learn what parameters we can pass to the `AmericanFootballGraphConverter`, check out [Graph FAQ Section B](graphs_faq.ipynb)\n",
    "- We pass `dataset` as a `BigDataBowlDataset` object.\n",
    "- The `AmericanFootballGraphConverter` also takes an optional `label_col` and `graph_id_col` parameter. These default to \"label\" and \"graph_id\" respectively and only need to be specified when they have been changed in the steps prior.\n",
    "- Although we convert weight and height to kilograms and centimeters, the coordinate system, speed and acceleration remains in the provided formats. Hence, `max_*_speed` and `max_*_acceleration` are in yards/second and yards/second^2 respectively. "
   ]
  },
  {
   "cell_type": "code",
   "execution_count": null,
   "metadata": {},
   "outputs": [],
   "source": [
    "converter = AmericanFootballGraphConverter(\n",
    "    dataset=bdb,\n",
    "    label_col=\"label\",\n",
    "    graph_id_col=\"graph_id\",\n",
    "    max_player_speed=8.0,\n",
    "    max_ball_speed=28.0,\n",
    "    max_player_acceleration=10.0,\n",
    "    max_ball_acceleration=10.0,\n",
    "    self_loop_ball=True,\n",
    "    adjacency_matrix_connect_type=\"ball\",\n",
    "    adjacency_matrix_type=\"split_by_team\",\n",
    "    label_type=\"binary\",\n",
    "    defending_team_node_value=0.0,\n",
    "    attacking_non_qb_node_value=0.1,\n",
    "    random_seed=False,\n",
    "    pad=False,\n",
    "    verbose=False,\n",
    "    chunk_size=10_000,\n",
    ")\n",
    "spektral_graphs = converter.to_graph_frames()"
   ]
  },
  {
   "cell_type": "markdown",
   "metadata": {},
   "source": [
    "### 3. Spektral Graphs\n",
    "\n",
    "The `converter` allows for transformation in 3 different ways:\n",
    "1. `converter.to_graph_frames()` returns a list of dictionary objects, one dict per frame. Each dictionary has the keys `x`, `e`, `a`, `y` and `graph_id`\n",
    "2. `converter.to_spektral_graphs()` returns a list of Spektral `Graph` objects that can be loaded directly into `CustomSpektralDataset(graphs=converter.to_spektral_graphs())`\n",
    "3. `converter.to_pickle(file_path=file_path)` stores the converted frames into a `pickle` file. You can load all pickle files directly with `CustomSpektralDataset(pickle_folder=pickle_folder)`\n",
    "- For a comprehensive list of American Football node and edge features please reference [Graph FAQ Section C](graphs_faq.ipynb)"
   ]
  },
  {
   "cell_type": "markdown",
   "metadata": {},
   "source": [
    "You should now have enough information to continue on recreating [Section 5](examples/1_kloppy_gnn_train.ipynb#5-creating-a-custom-graph-dataset) and beyond of the Walkthrough with this American Football!\n",
    "\n",
    "Warning: As mentioned the data files for the 2025 BigDataBowl are pretty huge, which means the converted (pickle) files will be even bigger. "
   ]
  }
 ],
 "metadata": {
  "kernelspec": {
   "display_name": ".venv311",
   "language": "python",
   "name": "python3"
  },
  "language_info": {
   "codemirror_mode": {
    "name": "ipython",
    "version": 3
   },
   "file_extension": ".py",
   "mimetype": "text/x-python",
   "name": "python",
   "nbconvert_exporter": "python",
   "pygments_lexer": "ipython3",
   "version": "3.11.9"
  }
 },
 "nbformat": 4,
 "nbformat_minor": 2
}
