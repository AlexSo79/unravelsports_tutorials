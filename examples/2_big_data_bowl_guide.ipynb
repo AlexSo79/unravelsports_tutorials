{
 "cells": [
  {
   "cell_type": "markdown",
   "metadata": {},
   "source": [
    "## 🌀 unravel BigDataBowl data!\n",
    "\n",
    "First run `pip install unravelsports` if you haven't already!\n",
    "\n",
    "-------"
   ]
  },
  {
   "cell_type": "code",
   "execution_count": null,
   "metadata": {},
   "outputs": [],
   "source": [
    "%pip install unravelsports --quiet"
   ]
  },
  {
   "cell_type": "markdown",
   "metadata": {},
   "source": [
    "This basic guide shows the differences between loading and converting the BigDataBowl data using the `AmericanFootballGraphConverter` compared to the `SoccerGraphConverter`. For the remaining functionalities please reference the [Quick-Start Guide](0_quick_start_guide.ipynb) or [Section 5](1_kloppy_gnn_train.ipynb#5-creating-a-custom-graph-dataset) and beyond of the Walkthrough.\n",
    "\n",
    "If anything is unclear, please read through [the Soccer example](1_kloppy_gnn_train.ipynb) in it's interity. \n",
    "\n",
    "-------\n",
    "\n",
    "### BigDataBowl data\n",
    "\n",
    "Before you can get started you have to download the BigDataBowl files from [Kaggle](https://www.kaggle.com/competitions/nfl-big-data-bowl-2025/data) after agreeing to the terms and conditions of the BigDataBowl. \n",
    "\n",
    "Please note development of this implementation started prior to the BigDataBowl 2025 data release and was done using BigDataBowl 2023 data. This implementation supports the 2025 dataset, but the 2025 tracking data files have 7x as many frames (1,100,000 compared to 7,100,000), because of the BEFORE_SNAP and AFTER_SNAP frame types. It is highly adviced to walk through this notebook with 2023 data first, because it will run much faster (roughly ~2 compared to ~15 minutes for one tracking data csv on an M1 MacBook). After you've tested it feel free to progress with the 2025 dataset.\n",
    "\n",
    "\n",
    "-------\n",
    "\n",
    "### American Football as Graphs\n",
    "\n",
    "Although a lot of the functionality is similar to the Soccer implementation, the American Football implemenation has some clear differences, because of the different file structure, the lack of a [Kloppy](https://github.com/PySport/kloppy)-like library for American Football data, and both sports having different requirements. And most importantly the American Football implementation uses Polars under the hood! "
   ]
  },
  {
   "cell_type": "markdown",
   "metadata": {},
   "source": [
    "### Contents:\n",
    "\n",
    "- [**1. BigDataBowlDataset**](#1-bigdatabowldataset)\n",
    "- [**2. AmericanFootballGraphConverter**](#2-americanfootballgraphconverter)\n",
    "- [**3. Spektral Graphs**](#3-spektral-graphs)\n",
    "\n",
    "ℹ️ [**Graphs FAQ**](graphs_faq.md)\n",
    "\n",
    "-------"
   ]
  },
  {
   "cell_type": "markdown",
   "metadata": {},
   "source": [
    "\n",
    "### 1. BigDataBowlDataset\n",
    "\n",
    "- The `AmericanFootballGraphConverter` expects a Polars DataFrame. You can load this with the `BigDataBowlDataset` class\n",
    "- The `BigDataBowlDataset`-class takes 3 parameters, namely the paths to the tracking, players and plays files (str) respectively. \n",
    "- The `BigDataBowlDataset` standardizes every play attacking from left to right, and it adjusts orientation (`o`) and direction (`dir`) accordingly. It also joins the `plays.csv` and `players.csv` to the tracking data to use the in possession team, and player positions (QB identifier), weight and height respectively. It also converts weight to kilograms and height to centimeters.\n",
    "- We add `graph_id`s to the `BigDataBowlDataset` by calling `.add_graph_ids()`. We don't have to use dummy graph ids as we do for ⚽ because the data comes with `playId`s. It's recommended to assign graph identifiers at least by `gameId` and `playId` (the default behaviour). \n",
    "- We add dummy labels by calling `.add_dummy_labels()`. It's still up to the user to define the _actual_ labels they can use to train on. The `add_dummy_labels` adds a column `\"label\"` to the Polars DataFrame. To add your own labels simply remove the `.add_dummy_labels()` call and add your own label column. "
   ]
  },
  {
   "cell_type": "code",
   "execution_count": 1,
   "metadata": {},
   "outputs": [
    {
     "data": {
      "text/html": [
       "<div><style>\n",
       ".dataframe > thead > tr,\n",
       ".dataframe > tbody > tr {\n",
       "  text-align: right;\n",
       "  white-space: pre-wrap;\n",
       "}\n",
       "</style>\n",
       "<small>shape: (1_118_122, 22)</small><table border=\"1\" class=\"dataframe\"><thead><tr><th>gameId</th><th>playId</th><th>nflId</th><th>frameId</th><th>time</th><th>jerseyNumber</th><th>team</th><th>playDirection</th><th>x</th><th>y</th><th>s</th><th>a</th><th>dis</th><th>o</th><th>dir</th><th>event</th><th>officialPosition</th><th>height_cm</th><th>weight_kg</th><th>possessionTeam</th><th>graph_id</th><th>label</th></tr><tr><td>i64</td><td>i64</td><td>f64</td><td>i64</td><td>datetime[μs]</td><td>i64</td><td>str</td><td>str</td><td>f64</td><td>f64</td><td>f64</td><td>f64</td><td>f64</td><td>f64</td><td>f64</td><td>str</td><td>str</td><td>f64</td><td>f64</td><td>str</td><td>str</td><td>i64</td></tr></thead><tbody><tr><td>2021090900</td><td>97</td><td>25511.0</td><td>1</td><td>2021-09-10 00:26:31.100</td><td>12</td><td>&quot;TB&quot;</td><td>&quot;right&quot;</td><td>-22.23</td><td>-2.43</td><td>0.29</td><td>0.3</td><td>0.03</td><td>2.882586</td><td>1.483355</td><td>&quot;None&quot;</td><td>&quot;QB&quot;</td><td>193.04</td><td>102.0582</td><td>&quot;TB&quot;</td><td>&quot;2021090900-97&quot;</td><td>1</td></tr><tr><td>2021090900</td><td>97</td><td>25511.0</td><td>2</td><td>2021-09-10 00:26:31.200</td><td>12</td><td>&quot;TB&quot;</td><td>&quot;right&quot;</td><td>-22.22</td><td>-2.43</td><td>0.23</td><td>0.11</td><td>0.02</td><td>2.8681</td><td>1.620887</td><td>&quot;None&quot;</td><td>&quot;QB&quot;</td><td>193.04</td><td>102.0582</td><td>&quot;TB&quot;</td><td>&quot;2021090900-97&quot;</td><td>1</td></tr><tr><td>2021090900</td><td>97</td><td>25511.0</td><td>3</td><td>2021-09-10 00:26:31.300</td><td>12</td><td>&quot;TB&quot;</td><td>&quot;right&quot;</td><td>-22.22</td><td>-2.41</td><td>0.16</td><td>0.1</td><td>0.01</td><td>2.796716</td><td>1.196423</td><td>&quot;None&quot;</td><td>&quot;QB&quot;</td><td>193.04</td><td>102.0582</td><td>&quot;TB&quot;</td><td>&quot;2021090900-97&quot;</td><td>1</td></tr><tr><td>2021090900</td><td>97</td><td>25511.0</td><td>4</td><td>2021-09-10 00:26:31.400</td><td>12</td><td>&quot;TB&quot;</td><td>&quot;right&quot;</td><td>-22.27</td><td>-2.4</td><td>0.15</td><td>0.24</td><td>0.06</td><td>2.655169</td><td>-1.102175</td><td>&quot;None&quot;</td><td>&quot;QB&quot;</td><td>193.04</td><td>102.0582</td><td>&quot;TB&quot;</td><td>&quot;2021090900-97&quot;</td><td>0</td></tr><tr><td>2021090900</td><td>97</td><td>25511.0</td><td>5</td><td>2021-09-10 00:26:31.500</td><td>12</td><td>&quot;TB&quot;</td><td>&quot;right&quot;</td><td>-22.31</td><td>-2.39</td><td>0.25</td><td>0.18</td><td>0.04</td><td>2.588847</td><td>-1.264491</td><td>&quot;None&quot;</td><td>&quot;QB&quot;</td><td>193.04</td><td>102.0582</td><td>&quot;TB&quot;</td><td>&quot;2021090900-97&quot;</td><td>1</td></tr><tr><td>&hellip;</td><td>&hellip;</td><td>&hellip;</td><td>&hellip;</td><td>&hellip;</td><td>&hellip;</td><td>&hellip;</td><td>&hellip;</td><td>&hellip;</td><td>&hellip;</td><td>&hellip;</td><td>&hellip;</td><td>&hellip;</td><td>&hellip;</td><td>&hellip;</td><td>&hellip;</td><td>&hellip;</td><td>&hellip;</td><td>&hellip;</td><td>&hellip;</td><td>&hellip;</td><td>&hellip;</td></tr><tr><td>2021091300</td><td>4845</td><td>-9999.9</td><td>30</td><td>2021-09-14 03:54:20.600</td><td>null</td><td>&quot;football&quot;</td><td>&quot;left&quot;</td><td>7.22</td><td>1.42</td><td>3.58</td><td>1.95</td><td>0.37</td><td>null</td><td>null</td><td>&quot;pass_forward&quot;</td><td>null</td><td>null</td><td>null</td><td>&quot;LV&quot;</td><td>&quot;2021091300-4845&quot;</td><td>1</td></tr><tr><td>2021091300</td><td>4845</td><td>-9999.9</td><td>31</td><td>2021-09-14 03:54:20.700</td><td>null</td><td>&quot;football&quot;</td><td>&quot;left&quot;</td><td>9.69</td><td>0.19</td><td>17.16</td><td>0.25</td><td>2.77</td><td>null</td><td>null</td><td>&quot;None&quot;</td><td>null</td><td>null</td><td>null</td><td>&quot;LV&quot;</td><td>&quot;2021091300-4845&quot;</td><td>0</td></tr><tr><td>2021091300</td><td>4845</td><td>-9999.9</td><td>32</td><td>2021-09-14 03:54:20.800</td><td>null</td><td>&quot;football&quot;</td><td>&quot;left&quot;</td><td>11.34</td><td>-0.34</td><td>17.1</td><td>1.05</td><td>1.73</td><td>null</td><td>null</td><td>&quot;None&quot;</td><td>null</td><td>null</td><td>null</td><td>&quot;LV&quot;</td><td>&quot;2021091300-4845&quot;</td><td>1</td></tr><tr><td>2021091300</td><td>4845</td><td>-9999.9</td><td>33</td><td>2021-09-14 03:54:20.900</td><td>null</td><td>&quot;football&quot;</td><td>&quot;left&quot;</td><td>12.96</td><td>-0.88</td><td>16.98</td><td>1.67</td><td>1.71</td><td>null</td><td>null</td><td>&quot;None&quot;</td><td>null</td><td>null</td><td>null</td><td>&quot;LV&quot;</td><td>&quot;2021091300-4845&quot;</td><td>0</td></tr><tr><td>2021091300</td><td>4845</td><td>-9999.9</td><td>34</td><td>2021-09-14 03:54:21</td><td>null</td><td>&quot;football&quot;</td><td>&quot;left&quot;</td><td>14.58</td><td>-1.43</td><td>16.89</td><td>1.82</td><td>1.71</td><td>null</td><td>null</td><td>&quot;None&quot;</td><td>null</td><td>null</td><td>null</td><td>&quot;LV&quot;</td><td>&quot;2021091300-4845&quot;</td><td>1</td></tr></tbody></table></div>"
      ],
      "text/plain": [
       "shape: (1_118_122, 22)\n",
       "┌────────────┬────────┬─────────┬─────────┬───┬───────────┬────────────────┬───────────────┬───────┐\n",
       "│ gameId     ┆ playId ┆ nflId   ┆ frameId ┆ … ┆ weight_kg ┆ possessionTeam ┆ graph_id      ┆ label │\n",
       "│ ---        ┆ ---    ┆ ---     ┆ ---     ┆   ┆ ---       ┆ ---            ┆ ---           ┆ ---   │\n",
       "│ i64        ┆ i64    ┆ f64     ┆ i64     ┆   ┆ f64       ┆ str            ┆ str           ┆ i64   │\n",
       "╞════════════╪════════╪═════════╪═════════╪═══╪═══════════╪════════════════╪═══════════════╪═══════╡\n",
       "│ 2021090900 ┆ 97     ┆ 25511.0 ┆ 1       ┆ … ┆ 102.0582  ┆ TB             ┆ 2021090900-97 ┆ 1     │\n",
       "│ 2021090900 ┆ 97     ┆ 25511.0 ┆ 2       ┆ … ┆ 102.0582  ┆ TB             ┆ 2021090900-97 ┆ 1     │\n",
       "│ 2021090900 ┆ 97     ┆ 25511.0 ┆ 3       ┆ … ┆ 102.0582  ┆ TB             ┆ 2021090900-97 ┆ 1     │\n",
       "│ 2021090900 ┆ 97     ┆ 25511.0 ┆ 4       ┆ … ┆ 102.0582  ┆ TB             ┆ 2021090900-97 ┆ 0     │\n",
       "│ 2021090900 ┆ 97     ┆ 25511.0 ┆ 5       ┆ … ┆ 102.0582  ┆ TB             ┆ 2021090900-97 ┆ 1     │\n",
       "│ …          ┆ …      ┆ …       ┆ …       ┆ … ┆ …         ┆ …              ┆ …             ┆ …     │\n",
       "│ 2021091300 ┆ 4845   ┆ -9999.9 ┆ 30      ┆ … ┆ null      ┆ LV             ┆ 2021091300-48 ┆ 1     │\n",
       "│            ┆        ┆         ┆         ┆   ┆           ┆                ┆ 45            ┆       │\n",
       "│ 2021091300 ┆ 4845   ┆ -9999.9 ┆ 31      ┆ … ┆ null      ┆ LV             ┆ 2021091300-48 ┆ 0     │\n",
       "│            ┆        ┆         ┆         ┆   ┆           ┆                ┆ 45            ┆       │\n",
       "│ 2021091300 ┆ 4845   ┆ -9999.9 ┆ 32      ┆ … ┆ null      ┆ LV             ┆ 2021091300-48 ┆ 1     │\n",
       "│            ┆        ┆         ┆         ┆   ┆           ┆                ┆ 45            ┆       │\n",
       "│ 2021091300 ┆ 4845   ┆ -9999.9 ┆ 33      ┆ … ┆ null      ┆ LV             ┆ 2021091300-48 ┆ 0     │\n",
       "│            ┆        ┆         ┆         ┆   ┆           ┆                ┆ 45            ┆       │\n",
       "│ 2021091300 ┆ 4845   ┆ -9999.9 ┆ 34      ┆ … ┆ null      ┆ LV             ┆ 2021091300-48 ┆ 1     │\n",
       "│            ┆        ┆         ┆         ┆   ┆           ┆                ┆ 45            ┆       │\n",
       "└────────────┴────────┴─────────┴─────────┴───┴───────────┴────────────────┴───────────────┴───────┘"
      ]
     },
     "execution_count": 1,
     "metadata": {},
     "output_type": "execute_result"
    }
   ],
   "source": [
    "from unravel.american_football import BigDataBowlDataset, AmericanFootballGraphConverter\n",
    "\n",
    "bdb = BigDataBowlDataset(\n",
    "    tracking_file_path=\".data/nfl-big-data-bowl-2023/week1.csv\",\n",
    "    players_file_path=\".data/nfl-big-data-bowl-2023/players.csv\",\n",
    "    plays_file_path=\".data/nfl-big-data-bowl-2023/plays.csv\",\n",
    ")\n",
    "bdb.load()\n",
    "bdb.add_graph_ids(by=[\"gameId\", \"playId\"], column_name=\"graph_id\")\n",
    "bdb.add_dummy_labels(by=[\"gameId\", \"playId\", \"frameId\"], column_name=\"label\")"
   ]
  },
  {
   "cell_type": "markdown",
   "metadata": {},
   "source": [
    "### 2. AmericanFootballGraphConverter\n",
    "\n",
    "ℹ️ For more information on:\n",
    "- What a Graph is, check out [Graph FAQ Section A](graphs_faq.ipynb)\n",
    "- What features each Graph has, check out [Graph FAQ Section C](graphs_faq.ipynb)\n",
    "\n",
    "#### Parameters\n",
    "- To learn what parameters we can pass to the `AmericanFootballGraphConverter`, check out [Graph FAQ Section B](graphs_faq.ipynb)\n",
    "- We pass `dataset` as a `BigDataBowlDataset` object.\n",
    "- The `AmericanFootballGraphConverter` also takes an optional `label_col` and `graph_id_col` parameter. These default to \"label\" and \"graph_id\" respectively and only need to be specified when they have been changed in the steps prior.\n",
    "- Although we convert weight and height to kilograms and centimeters, the coordinate system, speed and acceleration remains in the provided formats. Hence, `max_*_speed` and `max_*_acceleration` are in yards/second and yards/second^2 respectively. "
   ]
  },
  {
   "cell_type": "code",
   "execution_count": 2,
   "metadata": {},
   "outputs": [],
   "source": [
    "converter = AmericanFootballGraphConverter(\n",
    "    dataset=bdb,\n",
    "    label_col=\"label\",\n",
    "    graph_id_col=\"graph_id\",\n",
    "    max_player_speed=8.0,\n",
    "    max_ball_speed=28.0,\n",
    "    max_player_acceleration=10.0,\n",
    "    max_ball_acceleration=10.0,\n",
    "    self_loop_ball=True,\n",
    "    adjacency_matrix_connect_type=\"ball\",\n",
    "    adjacency_matrix_type=\"split_by_team\",\n",
    "    label_type=\"binary\",\n",
    "    defending_team_node_value=0.0,\n",
    "    attacking_non_qb_node_value=0.1,\n",
    "    random_seed=False,\n",
    "    pad=False,\n",
    "    verbose=False,\n",
    "    chunk_size=10_000,\n",
    ")\n",
    "spektral_graphs = converter.to_graph_frames()"
   ]
  },
  {
   "cell_type": "markdown",
   "metadata": {},
   "source": [
    "### 3. Spektral Graphs\n",
    "\n",
    "The `converter` allows for transformation in 3 different ways:\n",
    "1. `converter.to_graph_frames()` returns a list of dictionary objects, one dict per frame. Each dictionary has the keys `x`, `e`, `a`, `y` and `graph_id`\n",
    "2. `converter.to_spektral_graphs()` returns a list of Spektral `Graph` objects that can be loaded directly into `CustomSpektralDataset(graphs=converter.to_spektral_graphs())`\n",
    "3. `converter.to_pickle(file_path=file_path)` stores the converted frames into a `pickle` file. You can load all pickle files directly with `CustomSpektralDataset(pickle_folder=pickle_folder)`\n",
    "- For a comprehensive list of American Football node and edge features please reference [Graph FAQ Section C](graphs_faq.md)"
   ]
  },
  {
   "cell_type": "markdown",
   "metadata": {},
   "source": [
    "You should now have enough information to continue on recreating [Section 5](examples/1_kloppy_gnn_train.ipynb#5-creating-a-custom-graph-dataset) and beyond of the Walkthrough with this American Football!\n",
    "\n",
    "Warning: As mentioned the data files for the 2025 BigDataBowl are pretty huge, which means the converted (pickle) files will be even bigger. "
   ]
  }
 ],
 "metadata": {
  "kernelspec": {
   "display_name": ".venv311",
   "language": "python",
   "name": "python3"
  },
  "language_info": {
   "codemirror_mode": {
    "name": "ipython",
    "version": 3
   },
   "file_extension": ".py",
   "mimetype": "text/x-python",
   "name": "python",
   "nbconvert_exporter": "python",
   "pygments_lexer": "ipython3",
   "version": "3.11.9"
  }
 },
 "nbformat": 4,
 "nbformat_minor": 2
}
